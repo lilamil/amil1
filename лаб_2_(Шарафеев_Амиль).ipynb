{
  "nbformat": 4,
  "nbformat_minor": 0,
  "metadata": {
    "colab": {
      "provenance": [],
      "authorship_tag": "ABX9TyNDTL886TKpuckCtBdK6yMD",
      "include_colab_link": true
    },
    "kernelspec": {
      "name": "python3",
      "display_name": "Python 3"
    },
    "language_info": {
      "name": "python"
    }
  },
  "cells": [
    {
      "cell_type": "markdown",
      "metadata": {
        "id": "view-in-github",
        "colab_type": "text"
      },
      "source": [
        "<a href=\"https://colab.research.google.com/github/lilamil/amil1/blob/main/%D0%BB%D0%B0%D0%B1_2_(%D0%A8%D0%B0%D1%80%D0%B0%D1%84%D0%B5%D0%B5%D0%B2_%D0%90%D0%BC%D0%B8%D0%BB%D1%8C).ipynb\" target=\"_parent\"><img src=\"https://colab.research.google.com/assets/colab-badge.svg\" alt=\"Open In Colab\"/></a>"
      ]
    },
    {
      "cell_type": "markdown",
      "source": [],
      "metadata": {
        "id": "zxkldzCsMy9z"
      }
    },
    {
      "cell_type": "markdown",
      "source": [
        "## ЛАБ 1 (ВАРИАНТ 21)"
      ],
      "metadata": {
        "id": "BHJ4cmLMMvRS"
      }
    }
  ]
}